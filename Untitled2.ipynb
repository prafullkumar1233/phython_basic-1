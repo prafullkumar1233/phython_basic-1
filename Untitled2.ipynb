{
 "cells": [
  {
   "cell_type": "code",
   "execution_count": null,
   "id": "3daccf18-a2a9-4ace-b992-ec6ff4363d0f",
   "metadata": {},
   "outputs": [],
   "source": [
    "set=1,2,3,4,5"
   ]
  },
  {
   "cell_type": "code",
   "execution_count": 1,
   "id": "a8a412e1-7488-4348-8d41-95223ee6915b",
   "metadata": {},
   "outputs": [
    {
     "name": "stdout",
     "output_type": "stream",
     "text": [
      "<class 'set'>\n"
     ]
    }
   ],
   "source": [
    "print(set)\n"
   ]
  },
  {
   "cell_type": "code",
   "execution_count": 10,
   "id": "564a888e-6867-4cb3-befa-31f44b9f808b",
   "metadata": {},
   "outputs": [
    {
     "name": "stdin",
     "output_type": "stream",
     "text": [
      "enter a name 5\n"
     ]
    },
    {
     "name": "stdout",
     "output_type": "stream",
     "text": [
      "number is equal \n"
     ]
    }
   ],
   "source": [
    "A= int(input(\"enter a name\"))\n",
    "if A>5:\n",
    "            print(\"number is greater than 5\")\n",
    "elif A==5:\n",
    "    print(\"number is equal \")\n",
    "else:\n",
    "    print(\"number is less than 5\")\n"
   ]
  },
  {
   "cell_type": "code",
   "execution_count": 14,
   "id": "44747c81-6720-4764-873d-f69f225e0a03",
   "metadata": {},
   "outputs": [
    {
     "name": "stdout",
     "output_type": "stream",
     "text": [
      "not found it\n"
     ]
    }
   ],
   "source": [
    "A1 =[2,5,7,9,6]\n",
    "if 99 in A1:\n",
    "    print(\"Found it\")\n",
    "else:\n",
    "\n",
    "    print (\"not found it\")"
   ]
  },
  {
   "cell_type": "code",
   "execution_count": 35,
   "id": "c813aae0-0a5d-43c2-b337-8f56eec38c62",
   "metadata": {},
   "outputs": [
    {
     "name": "stdin",
     "output_type": "stream",
     "text": [
      "Enter a number 33\n",
      "Enter a number 334\n"
     ]
    },
    {
     "name": "stdout",
     "output_type": "stream",
     "text": [
      "b is greater 334\n"
     ]
    }
   ],
   "source": [
    "a=int(input(\"Enter a number\"))\n",
    "b=int(input(\"Enter a number\"))\n",
    "if a>b:\n",
    "'     print(\"a is greater\",a)\n",
    "elif a==b:\n",
    "    \n",
    "        print(\"a and b is equal\")\n",
    "else:\n",
    " print(\"b is greater\",b)"
   ]
  },
  {
   "cell_type": "code",
   "execution_count": 59,
   "id": "835dda84-ab54-45a0-903b-054d737bedf9",
   "metadata": {},
   "outputs": [
    {
     "name": "stdin",
     "output_type": "stream",
     "text": [
      "enter a numbr 45\n"
     ]
    },
    {
     "name": "stdout",
     "output_type": "stream",
     "text": [
      "a is divisbile by 2 or 3\n"
     ]
    }
   ],
   "source": [
    "a=int(input(\"enter a numbr\"))\n",
    "if a%2==0 and a%3==0:\n",
    "    print(\"divisble by both\")\n",
    "elif a%2==0 or a%3==0:\n",
    "            print(\"a is divisbile by 2 or 3\")\n",
    "                  \n",
    "            \n",
    "else:\n",
    "            print (\"a is not divisible by any one \")"
   ]
  },
  {
   "cell_type": "code",
   "execution_count": null,
   "id": "c5f3ba41-bef7-46ae-ac9a-f14548cdf587",
   "metadata": {},
   "outputs": [],
   "source": []
  },
  {
   "cell_type": "code",
   "execution_count": null,
   "id": "d44ffc3b-7dbd-4644-bc08-08531a42a6d3",
   "metadata": {},
   "outputs": [],
   "source": []
  }
 ],
 "metadata": {
  "kernelspec": {
   "display_name": "Python 3 (ipykernel)",
   "language": "python",
   "name": "python3"
  },
  "language_info": {
   "codemirror_mode": {
    "name": "ipython",
    "version": 3
   },
   "file_extension": ".py",
   "mimetype": "text/x-python",
   "name": "python",
   "nbconvert_exporter": "python",
   "pygments_lexer": "ipython3",
   "version": "3.12.4"
  }
 },
 "nbformat": 4,
 "nbformat_minor": 5
}
